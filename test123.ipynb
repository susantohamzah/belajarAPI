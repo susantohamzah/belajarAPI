{
 "cells": [
  {
   "cell_type": "code",
   "execution_count": 1,
   "metadata": {},
   "outputs": [],
   "source": [
    "import pandas as pd"
   ]
  },
  {
   "cell_type": "code",
   "execution_count": 2,
   "metadata": {},
   "outputs": [],
   "source": [
    "import requests"
   ]
  },
  {
   "cell_type": "code",
   "execution_count": 3,
   "metadata": {},
   "outputs": [
    {
     "data": {
      "text/plain": [
       "<Response [200]>"
      ]
     },
     "execution_count": 3,
     "metadata": {},
     "output_type": "execute_result"
    }
   ],
   "source": [
    "response = requests.get(\"https://cuaca-gempa-rest-api.vercel.app\")\n",
    "response"
   ]
  },
  {
   "cell_type": "code",
   "execution_count": 4,
   "metadata": {},
   "outputs": [
    {
     "data": {
      "text/plain": [
       "{'maintainer': 'Renova Muhamad Reza',\n",
       " 'source': 'https://github.com/renomureza/cuaca-gempa-rest-api',\n",
       " 'endpoint': {'quake': 'https://cuaca-gempa-rest-api.vercel.app/quake',\n",
       "  'weather': {'province': {'example': 'https://cuaca-gempa-rest-api.vercel.app/weather/jawa-barat'},\n",
       "   'city': {'example': 'https://cuaca-gempa-rest-api.vercel.app/weather/jawa-barat/bandung'}}}}"
      ]
     },
     "execution_count": 4,
     "metadata": {},
     "output_type": "execute_result"
    }
   ],
   "source": [
    "response.json()"
   ]
  },
  {
   "cell_type": "code",
   "execution_count": 5,
   "metadata": {},
   "outputs": [
    {
     "name": "stdout",
     "output_type": "stream",
     "text": [
      "200\n"
     ]
    },
    {
     "data": {
      "text/plain": [
       "{'success': True,\n",
       " 'message': None,\n",
       " 'data': {'tanggal': '27 Nov 2023',\n",
       "  'jam': '15:19:01 WIB',\n",
       "  'datetime': '2023-11-27T08:19:01+00:00',\n",
       "  'coordinates': '-8.86,112.81',\n",
       "  'lintang': '8.86 LS',\n",
       "  'bujur': '112.81 BT',\n",
       "  'magnitude': '4.7',\n",
       "  'kedalaman': '109 km',\n",
       "  'wilayah': 'Pusat gempa berada di laut 84 km Tenggara Kab. Malang',\n",
       "  'potensi': 'Gempa ini dirasakan untuk diteruskan pada masyarakat',\n",
       "  'dirasakan': 'II Trenggalek, II Gunung Kidul, II Karangkates, II Jember, II Banyuwangi, II Blitar',\n",
       "  'shakemap': 'https://data.bmkg.go.id/DataMKG/TEWS/20231127151901.mmi.jpg'}}"
      ]
     },
     "execution_count": 5,
     "metadata": {},
     "output_type": "execute_result"
    }
   ],
   "source": [
    "url = 'https://cuaca-gempa-rest-api.vercel.app/quake'\n",
    "response = requests.get(url)\n",
    "\n",
    "print(response.status_code)\n",
    "response.json()"
   ]
  },
  {
   "cell_type": "code",
   "execution_count": 7,
   "metadata": {},
   "outputs": [
    {
     "name": "stdout",
     "output_type": "stream",
     "text": [
      "200\n"
     ]
    }
   ],
   "source": [
    "import pandas as pd\n",
    "import json\n",
    "\n",
    "url = 'https://data.jabarprov.go.id/api-backend/bigdata/diskanlut/od_15086_angka_konsumsi_ikan_berdasarkan_tahun'\n",
    "response = requests.get(url)\n",
    "\n",
    "print(response.status_code)\n",
    "json = response.json()"
   ]
  },
  {
   "cell_type": "code",
   "execution_count": 10,
   "metadata": {},
   "outputs": [
    {
     "data": {
      "text/plain": [
       "dict_keys(['message', 'error', 'data', 'metadata', 'meta', 'metadata_filter'])"
      ]
     },
     "execution_count": 10,
     "metadata": {},
     "output_type": "execute_result"
    }
   ],
   "source": [
    "json.keys()"
   ]
  },
  {
   "cell_type": "code",
   "execution_count": 12,
   "metadata": {},
   "outputs": [
    {
     "data": {
      "text/plain": [
       "[{'id': 1,\n",
       "  'kode_provinsi': 32,\n",
       "  'nama_provinsi': 'JAWA BARAT',\n",
       "  'target_konsumsi_ikan': 23.89,\n",
       "  'realisasi_konsumsi_ikan': 24.57,\n",
       "  'satuan': 'KILOGRAM PER KAPITA PER TAHUN',\n",
       "  'tahun': 2014},\n",
       " {'id': 2,\n",
       "  'kode_provinsi': 32,\n",
       "  'nama_provinsi': 'JAWA BARAT',\n",
       "  'target_konsumsi_ikan': 25.41,\n",
       "  'realisasi_konsumsi_ikan': 25.88,\n",
       "  'satuan': 'KILOGRAM PER KAPITA PER TAHUN',\n",
       "  'tahun': 2015},\n",
       " {'id': 3,\n",
       "  'kode_provinsi': 32,\n",
       "  'nama_provinsi': 'JAWA BARAT',\n",
       "  'target_konsumsi_ikan': 27.35,\n",
       "  'realisasi_konsumsi_ikan': 27.7,\n",
       "  'satuan': 'KILOGRAM PER KAPITA PER TAHUN',\n",
       "  'tahun': 2016},\n",
       " {'id': 4,\n",
       "  'kode_provinsi': 32,\n",
       "  'nama_provinsi': 'JAWA BARAT',\n",
       "  'target_konsumsi_ikan': 28.53,\n",
       "  'realisasi_konsumsi_ikan': 28.6,\n",
       "  'satuan': 'KILOGRAM PER KAPITA PER TAHUN',\n",
       "  'tahun': 2017},\n",
       " {'id': 5,\n",
       "  'kode_provinsi': 32,\n",
       "  'nama_provinsi': 'JAWA BARAT',\n",
       "  'target_konsumsi_ikan': 29.46,\n",
       "  'realisasi_konsumsi_ikan': 29.64,\n",
       "  'satuan': 'KILOGRAM PER KAPITA PER TAHUN',\n",
       "  'tahun': 2018},\n",
       " {'id': 6,\n",
       "  'kode_provinsi': 32,\n",
       "  'nama_provinsi': 'JAWA BARAT',\n",
       "  'target_konsumsi_ikan': 30.34,\n",
       "  'realisasi_konsumsi_ikan': 30.53,\n",
       "  'satuan': 'KILOGRAM PER KAPITA PER TAHUN',\n",
       "  'tahun': 2019},\n",
       " {'id': 7,\n",
       "  'kode_provinsi': 32,\n",
       "  'nama_provinsi': 'JAWA BARAT',\n",
       "  'target_konsumsi_ikan': 28.0,\n",
       "  'realisasi_konsumsi_ikan': 37.01,\n",
       "  'satuan': 'KILOGRAM PER KAPITA PER TAHUN',\n",
       "  'tahun': 2020},\n",
       " {'id': 8,\n",
       "  'kode_provinsi': 32,\n",
       "  'nama_provinsi': 'JAWA BARAT',\n",
       "  'target_konsumsi_ikan': 28.31,\n",
       "  'realisasi_konsumsi_ikan': 37.71,\n",
       "  'satuan': 'KILOGRAM PER KAPITA PER TAHUN',\n",
       "  'tahun': 2021}]"
      ]
     },
     "execution_count": 12,
     "metadata": {},
     "output_type": "execute_result"
    }
   ],
   "source": [
    "json['data']"
   ]
  },
  {
   "cell_type": "code",
   "execution_count": 13,
   "metadata": {},
   "outputs": [
    {
     "data": {
      "text/html": [
       "<div>\n",
       "<style scoped>\n",
       "    .dataframe tbody tr th:only-of-type {\n",
       "        vertical-align: middle;\n",
       "    }\n",
       "\n",
       "    .dataframe tbody tr th {\n",
       "        vertical-align: top;\n",
       "    }\n",
       "\n",
       "    .dataframe thead th {\n",
       "        text-align: right;\n",
       "    }\n",
       "</style>\n",
       "<table border=\"1\" class=\"dataframe\">\n",
       "  <thead>\n",
       "    <tr style=\"text-align: right;\">\n",
       "      <th></th>\n",
       "      <th>id</th>\n",
       "      <th>kode_provinsi</th>\n",
       "      <th>nama_provinsi</th>\n",
       "      <th>target_konsumsi_ikan</th>\n",
       "      <th>realisasi_konsumsi_ikan</th>\n",
       "      <th>satuan</th>\n",
       "      <th>tahun</th>\n",
       "    </tr>\n",
       "  </thead>\n",
       "  <tbody>\n",
       "    <tr>\n",
       "      <th>0</th>\n",
       "      <td>1</td>\n",
       "      <td>32</td>\n",
       "      <td>JAWA BARAT</td>\n",
       "      <td>23.89</td>\n",
       "      <td>24.57</td>\n",
       "      <td>KILOGRAM PER KAPITA PER TAHUN</td>\n",
       "      <td>2014</td>\n",
       "    </tr>\n",
       "    <tr>\n",
       "      <th>1</th>\n",
       "      <td>2</td>\n",
       "      <td>32</td>\n",
       "      <td>JAWA BARAT</td>\n",
       "      <td>25.41</td>\n",
       "      <td>25.88</td>\n",
       "      <td>KILOGRAM PER KAPITA PER TAHUN</td>\n",
       "      <td>2015</td>\n",
       "    </tr>\n",
       "    <tr>\n",
       "      <th>2</th>\n",
       "      <td>3</td>\n",
       "      <td>32</td>\n",
       "      <td>JAWA BARAT</td>\n",
       "      <td>27.35</td>\n",
       "      <td>27.70</td>\n",
       "      <td>KILOGRAM PER KAPITA PER TAHUN</td>\n",
       "      <td>2016</td>\n",
       "    </tr>\n",
       "    <tr>\n",
       "      <th>3</th>\n",
       "      <td>4</td>\n",
       "      <td>32</td>\n",
       "      <td>JAWA BARAT</td>\n",
       "      <td>28.53</td>\n",
       "      <td>28.60</td>\n",
       "      <td>KILOGRAM PER KAPITA PER TAHUN</td>\n",
       "      <td>2017</td>\n",
       "    </tr>\n",
       "    <tr>\n",
       "      <th>4</th>\n",
       "      <td>5</td>\n",
       "      <td>32</td>\n",
       "      <td>JAWA BARAT</td>\n",
       "      <td>29.46</td>\n",
       "      <td>29.64</td>\n",
       "      <td>KILOGRAM PER KAPITA PER TAHUN</td>\n",
       "      <td>2018</td>\n",
       "    </tr>\n",
       "    <tr>\n",
       "      <th>5</th>\n",
       "      <td>6</td>\n",
       "      <td>32</td>\n",
       "      <td>JAWA BARAT</td>\n",
       "      <td>30.34</td>\n",
       "      <td>30.53</td>\n",
       "      <td>KILOGRAM PER KAPITA PER TAHUN</td>\n",
       "      <td>2019</td>\n",
       "    </tr>\n",
       "    <tr>\n",
       "      <th>6</th>\n",
       "      <td>7</td>\n",
       "      <td>32</td>\n",
       "      <td>JAWA BARAT</td>\n",
       "      <td>28.00</td>\n",
       "      <td>37.01</td>\n",
       "      <td>KILOGRAM PER KAPITA PER TAHUN</td>\n",
       "      <td>2020</td>\n",
       "    </tr>\n",
       "    <tr>\n",
       "      <th>7</th>\n",
       "      <td>8</td>\n",
       "      <td>32</td>\n",
       "      <td>JAWA BARAT</td>\n",
       "      <td>28.31</td>\n",
       "      <td>37.71</td>\n",
       "      <td>KILOGRAM PER KAPITA PER TAHUN</td>\n",
       "      <td>2021</td>\n",
       "    </tr>\n",
       "  </tbody>\n",
       "</table>\n",
       "</div>"
      ],
      "text/plain": [
       "   id  kode_provinsi nama_provinsi  target_konsumsi_ikan  \\\n",
       "0   1             32    JAWA BARAT                 23.89   \n",
       "1   2             32    JAWA BARAT                 25.41   \n",
       "2   3             32    JAWA BARAT                 27.35   \n",
       "3   4             32    JAWA BARAT                 28.53   \n",
       "4   5             32    JAWA BARAT                 29.46   \n",
       "5   6             32    JAWA BARAT                 30.34   \n",
       "6   7             32    JAWA BARAT                 28.00   \n",
       "7   8             32    JAWA BARAT                 28.31   \n",
       "\n",
       "   realisasi_konsumsi_ikan                         satuan  tahun  \n",
       "0                    24.57  KILOGRAM PER KAPITA PER TAHUN   2014  \n",
       "1                    25.88  KILOGRAM PER KAPITA PER TAHUN   2015  \n",
       "2                    27.70  KILOGRAM PER KAPITA PER TAHUN   2016  \n",
       "3                    28.60  KILOGRAM PER KAPITA PER TAHUN   2017  \n",
       "4                    29.64  KILOGRAM PER KAPITA PER TAHUN   2018  \n",
       "5                    30.53  KILOGRAM PER KAPITA PER TAHUN   2019  \n",
       "6                    37.01  KILOGRAM PER KAPITA PER TAHUN   2020  \n",
       "7                    37.71  KILOGRAM PER KAPITA PER TAHUN   2021  "
      ]
     },
     "execution_count": 13,
     "metadata": {},
     "output_type": "execute_result"
    }
   ],
   "source": [
    "data = pd.json_normalize(json['data'])\n",
    "data"
   ]
  },
  {
   "cell_type": "code",
   "execution_count": 14,
   "metadata": {},
   "outputs": [
    {
     "data": {
      "text/html": [
       "<div>\n",
       "<style scoped>\n",
       "    .dataframe tbody tr th:only-of-type {\n",
       "        vertical-align: middle;\n",
       "    }\n",
       "\n",
       "    .dataframe tbody tr th {\n",
       "        vertical-align: top;\n",
       "    }\n",
       "\n",
       "    .dataframe thead th {\n",
       "        text-align: right;\n",
       "    }\n",
       "</style>\n",
       "<table border=\"1\" class=\"dataframe\">\n",
       "  <thead>\n",
       "    <tr style=\"text-align: right;\">\n",
       "      <th></th>\n",
       "      <th>id</th>\n",
       "      <th>kode_provinsi</th>\n",
       "      <th>nama_provinsi</th>\n",
       "      <th>target_konsumsi_ikan</th>\n",
       "      <th>realisasi_konsumsi_ikan</th>\n",
       "      <th>satuan</th>\n",
       "      <th>tahun</th>\n",
       "    </tr>\n",
       "  </thead>\n",
       "  <tbody>\n",
       "    <tr>\n",
       "      <th>0</th>\n",
       "      <td>1</td>\n",
       "      <td>32</td>\n",
       "      <td>JAWA BARAT</td>\n",
       "      <td>23.89</td>\n",
       "      <td>24.57</td>\n",
       "      <td>KILOGRAM PER KAPITA PER TAHUN</td>\n",
       "      <td>2014</td>\n",
       "    </tr>\n",
       "    <tr>\n",
       "      <th>1</th>\n",
       "      <td>2</td>\n",
       "      <td>32</td>\n",
       "      <td>JAWA BARAT</td>\n",
       "      <td>25.41</td>\n",
       "      <td>25.88</td>\n",
       "      <td>KILOGRAM PER KAPITA PER TAHUN</td>\n",
       "      <td>2015</td>\n",
       "    </tr>\n",
       "    <tr>\n",
       "      <th>2</th>\n",
       "      <td>3</td>\n",
       "      <td>32</td>\n",
       "      <td>JAWA BARAT</td>\n",
       "      <td>27.35</td>\n",
       "      <td>27.70</td>\n",
       "      <td>KILOGRAM PER KAPITA PER TAHUN</td>\n",
       "      <td>2016</td>\n",
       "    </tr>\n",
       "    <tr>\n",
       "      <th>3</th>\n",
       "      <td>4</td>\n",
       "      <td>32</td>\n",
       "      <td>JAWA BARAT</td>\n",
       "      <td>28.53</td>\n",
       "      <td>28.60</td>\n",
       "      <td>KILOGRAM PER KAPITA PER TAHUN</td>\n",
       "      <td>2017</td>\n",
       "    </tr>\n",
       "    <tr>\n",
       "      <th>4</th>\n",
       "      <td>5</td>\n",
       "      <td>32</td>\n",
       "      <td>JAWA BARAT</td>\n",
       "      <td>29.46</td>\n",
       "      <td>29.64</td>\n",
       "      <td>KILOGRAM PER KAPITA PER TAHUN</td>\n",
       "      <td>2018</td>\n",
       "    </tr>\n",
       "    <tr>\n",
       "      <th>5</th>\n",
       "      <td>6</td>\n",
       "      <td>32</td>\n",
       "      <td>JAWA BARAT</td>\n",
       "      <td>30.34</td>\n",
       "      <td>30.53</td>\n",
       "      <td>KILOGRAM PER KAPITA PER TAHUN</td>\n",
       "      <td>2019</td>\n",
       "    </tr>\n",
       "    <tr>\n",
       "      <th>6</th>\n",
       "      <td>7</td>\n",
       "      <td>32</td>\n",
       "      <td>JAWA BARAT</td>\n",
       "      <td>28.00</td>\n",
       "      <td>37.01</td>\n",
       "      <td>KILOGRAM PER KAPITA PER TAHUN</td>\n",
       "      <td>2020</td>\n",
       "    </tr>\n",
       "    <tr>\n",
       "      <th>7</th>\n",
       "      <td>8</td>\n",
       "      <td>32</td>\n",
       "      <td>JAWA BARAT</td>\n",
       "      <td>28.31</td>\n",
       "      <td>37.71</td>\n",
       "      <td>KILOGRAM PER KAPITA PER TAHUN</td>\n",
       "      <td>2021</td>\n",
       "    </tr>\n",
       "  </tbody>\n",
       "</table>\n",
       "</div>"
      ],
      "text/plain": [
       "   id  kode_provinsi nama_provinsi  target_konsumsi_ikan  \\\n",
       "0   1             32    JAWA BARAT                 23.89   \n",
       "1   2             32    JAWA BARAT                 25.41   \n",
       "2   3             32    JAWA BARAT                 27.35   \n",
       "3   4             32    JAWA BARAT                 28.53   \n",
       "4   5             32    JAWA BARAT                 29.46   \n",
       "5   6             32    JAWA BARAT                 30.34   \n",
       "6   7             32    JAWA BARAT                 28.00   \n",
       "7   8             32    JAWA BARAT                 28.31   \n",
       "\n",
       "   realisasi_konsumsi_ikan                         satuan  tahun  \n",
       "0                    24.57  KILOGRAM PER KAPITA PER TAHUN   2014  \n",
       "1                    25.88  KILOGRAM PER KAPITA PER TAHUN   2015  \n",
       "2                    27.70  KILOGRAM PER KAPITA PER TAHUN   2016  \n",
       "3                    28.60  KILOGRAM PER KAPITA PER TAHUN   2017  \n",
       "4                    29.64  KILOGRAM PER KAPITA PER TAHUN   2018  \n",
       "5                    30.53  KILOGRAM PER KAPITA PER TAHUN   2019  \n",
       "6                    37.01  KILOGRAM PER KAPITA PER TAHUN   2020  \n",
       "7                    37.71  KILOGRAM PER KAPITA PER TAHUN   2021  "
      ]
     },
     "execution_count": 14,
     "metadata": {},
     "output_type": "execute_result"
    }
   ],
   "source": [
    "pd.DataFrame(json['data'])"
   ]
  },
  {
   "cell_type": "code",
   "execution_count": 1,
   "metadata": {},
   "outputs": [
    {
     "ename": "ModuleNotFoundError",
     "evalue": "No module named 'fastapi'",
     "output_type": "error",
     "traceback": [
      "\u001b[1;31m---------------------------------------------------------------------------\u001b[0m",
      "\u001b[1;31mModuleNotFoundError\u001b[0m                       Traceback (most recent call last)",
      "\u001b[1;32mc:\\Users\\user\\API LEARN\\test123.ipynb Cell 11\u001b[0m line \u001b[0;36m1\n\u001b[1;32m----> <a href='vscode-notebook-cell:/c%3A/Users/user/API%20LEARN/test123.ipynb#X13sZmlsZQ%3D%3D?line=0'>1</a>\u001b[0m \u001b[39mfrom\u001b[39;00m \u001b[39mfastapi\u001b[39;00m \u001b[39mimport\u001b[39;00m FastAPI\n",
      "\u001b[1;31mModuleNotFoundError\u001b[0m: No module named 'fastapi'"
     ]
    }
   ],
   "source": [
    "from fastapi import FastAPI\n"
   ]
  }
 ],
 "metadata": {
  "kernelspec": {
   "display_name": "base",
   "language": "python",
   "name": "python3"
  },
  "language_info": {
   "codemirror_mode": {
    "name": "ipython",
    "version": 3
   },
   "file_extension": ".py",
   "mimetype": "text/x-python",
   "name": "python",
   "nbconvert_exporter": "python",
   "pygments_lexer": "ipython3",
   "version": "3.11.5"
  }
 },
 "nbformat": 4,
 "nbformat_minor": 2
}
